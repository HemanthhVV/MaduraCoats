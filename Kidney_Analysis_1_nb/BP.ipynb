{
 "cells": [
  {
   "cell_type": "code",
   "execution_count": 1,
   "metadata": {},
   "outputs": [],
   "source": [
    "import pandas as pd\n",
    "import re"
   ]
  },
  {
   "cell_type": "code",
   "execution_count": 2,
   "metadata": {},
   "outputs": [],
   "source": [
    "df = pd.read_csv(\"Data2808.csv\")"
   ]
  },
  {
   "cell_type": "code",
   "execution_count": 3,
   "metadata": {},
   "outputs": [
    {
     "data": {
      "text/plain": [
       "92"
      ]
     },
     "execution_count": 3,
     "metadata": {},
     "output_type": "execute_result"
    }
   ],
   "source": [
    "df[\"BP\"].isna().sum()"
   ]
  },
  {
   "cell_type": "code",
   "execution_count": 4,
   "metadata": {},
   "outputs": [],
   "source": [
    "df = df[df[\"Patient Name\"]!= \"Patient \"]\n",
    "temp = df[[\"Patient Name\",\"Hospital Visited Date\",\"BP\"]]"
   ]
  },
  {
   "cell_type": "code",
   "execution_count": 5,
   "metadata": {},
   "outputs": [
    {
     "data": {
      "text/plain": [
       "Patient Name             0\n",
       "Hospital Visited Date    0\n",
       "BP                       0\n",
       "dtype: int64"
      ]
     },
     "execution_count": 5,
     "metadata": {},
     "output_type": "execute_result"
    }
   ],
   "source": [
    "temp = temp.dropna()\n",
    "temp.isna().sum()"
   ]
  },
  {
   "cell_type": "code",
   "execution_count": 6,
   "metadata": {},
   "outputs": [],
   "source": [
    "PatientID = []\n",
    "for i in temp[\"Patient Name\"]:\n",
    "    pid=i.split()\n",
    "    if(len(pid) == 1): PatientID.append(pid[0])\n",
    "    else:\n",
    "        pid = pid[-1]\n",
    "        PatientID.append(pid)\n",
    "# print(len(PatientID))\n",
    "# PatientID = list(set(PatientID))\n",
    "# print(len(PatientID))\n",
    "# print(PatientID)"
   ]
  },
  {
   "cell_type": "code",
   "execution_count": 7,
   "metadata": {},
   "outputs": [],
   "source": [
    "temp  =temp.drop(['Patient Name'],axis=1)"
   ]
  },
  {
   "cell_type": "code",
   "execution_count": 8,
   "metadata": {},
   "outputs": [],
   "source": [
    "temp[\"Patient ID\"] = PatientID"
   ]
  },
  {
   "cell_type": "code",
   "execution_count": 9,
   "metadata": {},
   "outputs": [],
   "source": [
    "temp[\"Hospital Visited Date\"] = temp[\"Hospital Visited Date\"].apply(pd.Timestamp)"
   ]
  },
  {
   "cell_type": "code",
   "execution_count": 10,
   "metadata": {},
   "outputs": [],
   "source": [
    "temp = temp.sort_values(by=\"Hospital Visited Date\")"
   ]
  },
  {
   "cell_type": "code",
   "execution_count": 11,
   "metadata": {},
   "outputs": [
    {
     "data": {
      "text/plain": [
       "array(['130/90', '130/70', '150/70', '130/80', '110/70', '140/90',\n",
       "       '120/70', '100/70', '100/60', '140/80', '120/80', '160/90',\n",
       "       '140/70', '150/90', '150/110', '134/90', '110/80', '160/100',\n",
       "       '140/100', '170/100', '120/90', '180/110', '130/60', '200/90',\n",
       "       '110/60', '170/90', '120/60', '150/100', '90/40', '150/80',\n",
       "       '150/8012.4', '160/70', '140/110', '170/110', '160/110', '100/80',\n",
       "       '130/100', '106/70', '180/140', '150/9', '110/90', '190/110',\n",
       "       '180/100', '120/701', '170/80', '140/902.6', '190/100', '140/40',\n",
       "       '160/80', '92', '90/60', '210/110', '90/50', '130/40', '160/60',\n",
       "       '180/90', '200/100', '140/60', '180/120', '110/80r', '100/170',\n",
       "       '260/120', '150/60', '180/80', '240/110', '149/70', '64.2',\n",
       "       '90/70', '120/40', '59.100', '120/30', '100/75', '180/60',\n",
       "       '200/110', '11/80', '110/40', '9./60', '140/84', '200/130',\n",
       "       '165/100', '10/60', '120//80'], dtype=object)"
      ]
     },
     "execution_count": 11,
     "metadata": {},
     "output_type": "execute_result"
    }
   ],
   "source": [
    "temp[\"BP\"].unique()\n",
    "# print(temp[\"BP\"][0])"
   ]
  },
  {
   "cell_type": "code",
   "execution_count": 12,
   "metadata": {},
   "outputs": [
    {
     "data": {
      "text/plain": [
       "(3180, 3)"
      ]
     },
     "execution_count": 12,
     "metadata": {},
     "output_type": "execute_result"
    }
   ],
   "source": [
    "temp.shape"
   ]
  },
  {
   "cell_type": "code",
   "execution_count": 13,
   "metadata": {},
   "outputs": [
    {
     "data": {
      "text/html": [
       "<div>\n",
       "<style scoped>\n",
       "    .dataframe tbody tr th:only-of-type {\n",
       "        vertical-align: middle;\n",
       "    }\n",
       "\n",
       "    .dataframe tbody tr th {\n",
       "        vertical-align: top;\n",
       "    }\n",
       "\n",
       "    .dataframe thead th {\n",
       "        text-align: right;\n",
       "    }\n",
       "</style>\n",
       "<table border=\"1\" class=\"dataframe\">\n",
       "  <thead>\n",
       "    <tr style=\"text-align: right;\">\n",
       "      <th></th>\n",
       "      <th>Hospital Visited Date</th>\n",
       "      <th>BP</th>\n",
       "      <th>Patient ID</th>\n",
       "    </tr>\n",
       "  </thead>\n",
       "  <tbody>\n",
       "    <tr>\n",
       "      <th>232</th>\n",
       "      <td>2008-03-19</td>\n",
       "      <td>130/90</td>\n",
       "      <td>191</td>\n",
       "    </tr>\n",
       "    <tr>\n",
       "      <th>230</th>\n",
       "      <td>2008-06-18</td>\n",
       "      <td>130/70</td>\n",
       "      <td>191</td>\n",
       "    </tr>\n",
       "    <tr>\n",
       "      <th>229</th>\n",
       "      <td>2008-09-15</td>\n",
       "      <td>150/70</td>\n",
       "      <td>191</td>\n",
       "    </tr>\n",
       "    <tr>\n",
       "      <th>226</th>\n",
       "      <td>2009-01-08</td>\n",
       "      <td>130/80</td>\n",
       "      <td>191</td>\n",
       "    </tr>\n",
       "    <tr>\n",
       "      <th>221</th>\n",
       "      <td>2009-02-25</td>\n",
       "      <td>110/70</td>\n",
       "      <td>191</td>\n",
       "    </tr>\n",
       "    <tr>\n",
       "      <th>...</th>\n",
       "      <td>...</td>\n",
       "      <td>...</td>\n",
       "      <td>...</td>\n",
       "    </tr>\n",
       "    <tr>\n",
       "      <th>54</th>\n",
       "      <td>2023-08-28</td>\n",
       "      <td>130/80</td>\n",
       "      <td>204</td>\n",
       "    </tr>\n",
       "    <tr>\n",
       "      <th>116</th>\n",
       "      <td>2023-08-28</td>\n",
       "      <td>120/70</td>\n",
       "      <td>195</td>\n",
       "    </tr>\n",
       "    <tr>\n",
       "      <th>60</th>\n",
       "      <td>2023-08-28</td>\n",
       "      <td>130/80</td>\n",
       "      <td>206</td>\n",
       "    </tr>\n",
       "    <tr>\n",
       "      <th>18</th>\n",
       "      <td>2023-08-28</td>\n",
       "      <td>110/70</td>\n",
       "      <td>202</td>\n",
       "    </tr>\n",
       "    <tr>\n",
       "      <th>0</th>\n",
       "      <td>2023-08-28</td>\n",
       "      <td>160/90</td>\n",
       "      <td>207</td>\n",
       "    </tr>\n",
       "  </tbody>\n",
       "</table>\n",
       "<p>3180 rows × 3 columns</p>\n",
       "</div>"
      ],
      "text/plain": [
       "    Hospital Visited Date      BP Patient ID\n",
       "232            2008-03-19  130/90        191\n",
       "230            2008-06-18  130/70        191\n",
       "229            2008-09-15  150/70        191\n",
       "226            2009-01-08  130/80        191\n",
       "221            2009-02-25  110/70        191\n",
       "..                    ...     ...        ...\n",
       "54             2023-08-28  130/80        204\n",
       "116            2023-08-28  120/70        195\n",
       "60             2023-08-28  130/80        206\n",
       "18             2023-08-28  110/70        202\n",
       "0              2023-08-28  160/90        207\n",
       "\n",
       "[3180 rows x 3 columns]"
      ]
     },
     "execution_count": 13,
     "metadata": {},
     "output_type": "execute_result"
    }
   ],
   "source": [
    "temp"
   ]
  },
  {
   "cell_type": "code",
   "execution_count": 14,
   "metadata": {},
   "outputs": [],
   "source": [
    "Systol = []\n",
    "# Diastol = []\n",
    "def ChangeBP(df):\n",
    "    l = df[\"Patient ID\"].unique()\n",
    "    for num in l: \n",
    "        k = df.groupby(\"Patient ID\").get_group(num).reset_index()\n",
    "        for i,j in zip(k[\"BP\"],k[\"Hospital Visited Date\"]) : \n",
    "            te = (re.split(\"[./r]\",i))\n",
    "            # te = [i for i in te if i]\n",
    "            if(len(te)>2):\n",
    "                del te[(len(te)-1)]\n",
    "            elif(len(te)<=1):\n",
    "                continue\n",
    "            else:\n",
    "                Systol.append([k[\"Patient ID\"][0],j,te[0],te[1]])\n",
    "    return Systol\n",
    "            # break\n",
    "        # print(Systol)\n",
    "        # break\n",
    "                # Systol.append((te[0]))\n",
    "                # Diastol.append((te[1]))\n",
    "    # te = [int(i) for i in te]\n",
    "\n",
    "# for i in temp[\"BP\"]:\n"
   ]
  },
  {
   "cell_type": "code",
   "execution_count": 15,
   "metadata": {},
   "outputs": [],
   "source": [
    "# l = temp[\"Patient ID\"].unique()\n",
    "result = ChangeBP(temp)\n",
    "# k[\"Patient ID\"][0]\n"
   ]
  },
  {
   "cell_type": "code",
   "execution_count": 16,
   "metadata": {},
   "outputs": [],
   "source": [
    "BP = pd.DataFrame(result,columns=[\"Patient ID\",\"Year\",\"Systol\",\"Diastol\"])"
   ]
  },
  {
   "cell_type": "markdown",
   "metadata": {},
   "source": [
    "k = temp.groupby(\"Patient ID\").get_group('80').reset_index()\n",
    "k"
   ]
  },
  {
   "cell_type": "code",
   "execution_count": 17,
   "metadata": {},
   "outputs": [],
   "source": [
    "BP1 = BP\n",
    "BP1[\"Systol\"] = BP1[\"Systol\"].astype(int)\n",
    "BP1[\"Diastol\"] = BP1[\"Diastol\"].astype(int)"
   ]
  },
  {
   "cell_type": "code",
   "execution_count": 18,
   "metadata": {},
   "outputs": [],
   "source": [
    "BP1=BP1[(BP1[\"Systol\"]>26) & (BP1[\"Diastol\"]>26)]"
   ]
  },
  {
   "cell_type": "code",
   "execution_count": 19,
   "metadata": {},
   "outputs": [],
   "source": [
    "BP1=BP1[(BP1[\"Systol\"]<170) & (BP1[\"Diastol\"]<170)]"
   ]
  },
  {
   "cell_type": "code",
   "execution_count": 20,
   "metadata": {},
   "outputs": [
    {
     "data": {
      "text/plain": [
       "(3099, 4)"
      ]
     },
     "execution_count": 20,
     "metadata": {},
     "output_type": "execute_result"
    }
   ],
   "source": [
    "BP1.shape"
   ]
  },
  {
   "cell_type": "code",
   "execution_count": 22,
   "metadata": {},
   "outputs": [],
   "source": [
    "BP1=BP1[BP1[\"Patient ID\"]!=178]"
   ]
  },
  {
   "cell_type": "code",
   "execution_count": 23,
   "metadata": {},
   "outputs": [],
   "source": [
    "BP1.to_csv(\"ChangeInBP2.csv\")"
   ]
  },
  {
   "cell_type": "code",
   "execution_count": null,
   "metadata": {},
   "outputs": [],
   "source": []
  }
 ],
 "metadata": {
  "kernelspec": {
   "display_name": "Python 3 (ipykernel)",
   "language": "python",
   "name": "python3"
  },
  "language_info": {
   "codemirror_mode": {
    "name": "ipython",
    "version": 3
   },
   "file_extension": ".py",
   "mimetype": "text/x-python",
   "name": "python",
   "nbconvert_exporter": "python",
   "pygments_lexer": "ipython3",
   "version": "3.9.13"
  },
  "orig_nbformat": 4
 },
 "nbformat": 4,
 "nbformat_minor": 2
}
