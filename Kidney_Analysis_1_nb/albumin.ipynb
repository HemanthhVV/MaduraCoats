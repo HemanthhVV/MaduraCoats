{
 "cells": [
  {
   "cell_type": "code",
   "execution_count": 1,
   "metadata": {},
   "outputs": [],
   "source": [
    "import pandas as pd"
   ]
  },
  {
   "cell_type": "code",
   "execution_count": 2,
   "metadata": {},
   "outputs": [],
   "source": [
    "df = pd.read_csv(\"data_3008.csv\")"
   ]
  },
  {
   "cell_type": "code",
   "execution_count": 3,
   "metadata": {},
   "outputs": [
    {
     "data": {
      "text/plain": [
       "Index(['Patient Name', 'Hospital Visited Date', 'Gender', 'Medications',\n",
       "       'Injections', 'Age', 'Height', 'Weight', 'BP', 'Diabetes',\n",
       "       'Hypertension', 'Smoking History', 'Family History',\n",
       "       'Previous Kidney Disease', 'Urine Albumin', 'Cardiovascular Disease',\n",
       "       'Glomerular Filration', 'Serum Creatinine Level', 'Haemoglobin Level',\n",
       "       'Serum Calcium Level', 'Serum Phosphorous Level',\n",
       "       'Serum Potassium Level', 'Serum Sodium Level', 'Serum Albumin Level',\n",
       "       'Serum Bicarbonate', 'Urinary Tract Infection', 'Kidney Stone',\n",
       "       'Kidney Injury History', 'Urine Output Per Day', 'Total Water Intake',\n",
       "       'Sun Exposure', 'Living Area', 'Total Count', 'Random Blood Sugar',\n",
       "       'Urea', 'Cholestrol', 'Magnesium', 'Uric Acid', 'Chloride', 'Protein',\n",
       "       'Urine Sugar', 'Pus Cells', 'Epithelial', 'Worker', 'Diet',\n",
       "       'Other Medications', 'Other Injections', 'Other Medical Condition',\n",
       "       'Person Created'],\n",
       "      dtype='object')"
      ]
     },
     "execution_count": 3,
     "metadata": {},
     "output_type": "execute_result"
    }
   ],
   "source": [
    "df.columns"
   ]
  },
  {
   "cell_type": "code",
   "execution_count": 5,
   "metadata": {},
   "outputs": [],
   "source": [
    "df1=df[[\"Patient Name\",\"Hospital Visited Date\",'Serum Albumin Level']]"
   ]
  },
  {
   "cell_type": "code",
   "execution_count": 6,
   "metadata": {},
   "outputs": [
    {
     "data": {
      "text/plain": [
       "Patient Name                0\n",
       "Hospital Visited Date       0\n",
       "Serum Albumin Level      3354\n",
       "dtype: int64"
      ]
     },
     "execution_count": 6,
     "metadata": {},
     "output_type": "execute_result"
    }
   ],
   "source": [
    "df1.isna().sum()"
   ]
  },
  {
   "cell_type": "code",
   "execution_count": 7,
   "metadata": {},
   "outputs": [
    {
     "data": {
      "text/plain": [
       "(3508, 3)"
      ]
     },
     "execution_count": 7,
     "metadata": {},
     "output_type": "execute_result"
    }
   ],
   "source": [
    "df1.shape"
   ]
  },
  {
   "cell_type": "code",
   "execution_count": 8,
   "metadata": {},
   "outputs": [],
   "source": [
    "df1 = df1.dropna()"
   ]
  },
  {
   "cell_type": "code",
   "execution_count": 10,
   "metadata": {},
   "outputs": [
    {
     "data": {
      "text/plain": [
       "array(['227', '211', '198', '192', '170', '166', '161', '160',\n",
       "       'Patient 156', 'Patient 151', 'Patient 149', 'Patient 146',\n",
       "       'Patient 140', 'Patient 137', 'Patient 135', 'Patient 134',\n",
       "       'Patient 132', 'Patient 133', 'patient 119', 'patient 109',\n",
       "       'patient 107', 'Patient 106', 'Patient 70', 'Patient 62',\n",
       "       'Patient 61', 'Patient 57', 'Patient 48', 'Patient 49',\n",
       "       'Patient 52', 'Patient 50', 'Patient 47', 'Patient 45',\n",
       "       'Patient 41', 'Patient 40', 'Patient 36', 'Patient 33',\n",
       "       'Patient 31', 'Patient 20', 'Patient 18', 'Patient 5', 'Patient 2',\n",
       "       'Patient 3', 'Patient 6', 'Patient 4', 'Patient 1'], dtype=object)"
      ]
     },
     "execution_count": 10,
     "metadata": {},
     "output_type": "execute_result"
    }
   ],
   "source": [
    "df1[\"Patient Name\"].unique()"
   ]
  },
  {
   "cell_type": "code",
   "execution_count": 11,
   "metadata": {},
   "outputs": [
    {
     "data": {
      "text/plain": [
       "45"
      ]
     },
     "execution_count": 11,
     "metadata": {},
     "output_type": "execute_result"
    }
   ],
   "source": [
    "len(df1[\"Patient Name\"].unique())"
   ]
  },
  {
   "cell_type": "code",
   "execution_count": null,
   "metadata": {},
   "outputs": [],
   "source": []
  }
 ],
 "metadata": {
  "kernelspec": {
   "display_name": "Python 3 (ipykernel)",
   "language": "python",
   "name": "python3"
  },
  "language_info": {
   "codemirror_mode": {
    "name": "ipython",
    "version": 3
   },
   "file_extension": ".py",
   "mimetype": "text/x-python",
   "name": "python",
   "nbconvert_exporter": "python",
   "pygments_lexer": "ipython3",
   "version": "3.9.13"
  },
  "orig_nbformat": 4
 },
 "nbformat": 4,
 "nbformat_minor": 2
}
