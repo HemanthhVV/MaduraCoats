{
 "cells": [
  {
   "cell_type": "code",
   "execution_count": 1,
   "metadata": {},
   "outputs": [],
   "source": [
    "import pandas as pd"
   ]
  },
  {
   "cell_type": "code",
   "execution_count": 3,
   "metadata": {},
   "outputs": [],
   "source": [
    "df=pd.read_csv(\"data_3008.csv\")"
   ]
  },
  {
   "cell_type": "code",
   "execution_count": 4,
   "metadata": {},
   "outputs": [
    {
     "data": {
      "text/html": [
       "<div>\n",
       "<style scoped>\n",
       "    .dataframe tbody tr th:only-of-type {\n",
       "        vertical-align: middle;\n",
       "    }\n",
       "\n",
       "    .dataframe tbody tr th {\n",
       "        vertical-align: top;\n",
       "    }\n",
       "\n",
       "    .dataframe thead th {\n",
       "        text-align: right;\n",
       "    }\n",
       "</style>\n",
       "<table border=\"1\" class=\"dataframe\">\n",
       "  <thead>\n",
       "    <tr style=\"text-align: right;\">\n",
       "      <th></th>\n",
       "      <th>Patient Name</th>\n",
       "      <th>Hospital Visited Date</th>\n",
       "      <th>Gender</th>\n",
       "      <th>Medications</th>\n",
       "      <th>Injections</th>\n",
       "      <th>Age</th>\n",
       "      <th>Height</th>\n",
       "      <th>Weight</th>\n",
       "      <th>BP</th>\n",
       "      <th>Diabetes</th>\n",
       "      <th>...</th>\n",
       "      <th>Protein</th>\n",
       "      <th>Urine Sugar</th>\n",
       "      <th>Pus Cells</th>\n",
       "      <th>Epithelial</th>\n",
       "      <th>Worker</th>\n",
       "      <th>Diet</th>\n",
       "      <th>Other Medications</th>\n",
       "      <th>Other Injections</th>\n",
       "      <th>Other Medical Condition</th>\n",
       "      <th>Person Created</th>\n",
       "    </tr>\n",
       "  </thead>\n",
       "  <tbody>\n",
       "    <tr>\n",
       "      <th>0</th>\n",
       "      <td>224</td>\n",
       "      <td>2022-01-20</td>\n",
       "      <td>Female</td>\n",
       "      <td>\"TAB.Feburic - 40mg OD\",\"TAB.Ketocheck DS\",\"TA...</td>\n",
       "      <td>\"INJ.Vintor 4000 Weekly Once\"</td>\n",
       "      <td>41 in 2023</td>\n",
       "      <td>168</td>\n",
       "      <td>76.40</td>\n",
       "      <td>130/80</td>\n",
       "      <td>Yes</td>\n",
       "      <td>...</td>\n",
       "      <td>NaN</td>\n",
       "      <td>NaN</td>\n",
       "      <td>NaN</td>\n",
       "      <td>NaN</td>\n",
       "      <td>Manual</td>\n",
       "      <td>Veg</td>\n",
       "      <td>NaN</td>\n",
       "      <td>NaN</td>\n",
       "      <td>NaN</td>\n",
       "      <td>bhavadharini@mailinator.com</td>\n",
       "    </tr>\n",
       "    <tr>\n",
       "      <th>1</th>\n",
       "      <td>223</td>\n",
       "      <td>2023-07-28</td>\n",
       "      <td>Male</td>\n",
       "      <td>\"TAB.Glynase - 5 mg BD\",\"TAB.Cardace - 5mg OD\"...</td>\n",
       "      <td>NaN</td>\n",
       "      <td>67 in 2023</td>\n",
       "      <td>170</td>\n",
       "      <td>68.20</td>\n",
       "      <td>120/80</td>\n",
       "      <td>Yes</td>\n",
       "      <td>...</td>\n",
       "      <td>NaN</td>\n",
       "      <td>Nil</td>\n",
       "      <td>2</td>\n",
       "      <td>1</td>\n",
       "      <td>Manual</td>\n",
       "      <td>Veg</td>\n",
       "      <td>NaN</td>\n",
       "      <td>NaN</td>\n",
       "      <td>NaN</td>\n",
       "      <td>bhavadharini@mailinator.com</td>\n",
       "    </tr>\n",
       "    <tr>\n",
       "      <th>2</th>\n",
       "      <td>221</td>\n",
       "      <td>2021-10-28</td>\n",
       "      <td>Male</td>\n",
       "      <td>NaN</td>\n",
       "      <td>NaN</td>\n",
       "      <td>70 in 2023</td>\n",
       "      <td>165</td>\n",
       "      <td>58.100</td>\n",
       "      <td>100/60</td>\n",
       "      <td>No</td>\n",
       "      <td>...</td>\n",
       "      <td>NaN</td>\n",
       "      <td>1+</td>\n",
       "      <td>4-6</td>\n",
       "      <td>2-3</td>\n",
       "      <td>Manual</td>\n",
       "      <td>Veg</td>\n",
       "      <td>NaN</td>\n",
       "      <td>NaN</td>\n",
       "      <td>NaN</td>\n",
       "      <td>bhavadharini@mailinator.com</td>\n",
       "    </tr>\n",
       "    <tr>\n",
       "      <th>3</th>\n",
       "      <td>225</td>\n",
       "      <td>2023-06-05</td>\n",
       "      <td>Male</td>\n",
       "      <td>\"TAB Amtas 5 mg BD\",\"TAB.Met XL - 25mg BD\",\"TA...</td>\n",
       "      <td>NaN</td>\n",
       "      <td>68 in 2023</td>\n",
       "      <td>170</td>\n",
       "      <td>74.40</td>\n",
       "      <td>140/80</td>\n",
       "      <td>Yes</td>\n",
       "      <td>...</td>\n",
       "      <td>NaN</td>\n",
       "      <td>3+</td>\n",
       "      <td>2-3</td>\n",
       "      <td>1-2</td>\n",
       "      <td>Manual</td>\n",
       "      <td>Veg</td>\n",
       "      <td>NaN</td>\n",
       "      <td>NaN</td>\n",
       "      <td>BPH</td>\n",
       "      <td>bhavadharini@mailinator.com</td>\n",
       "    </tr>\n",
       "    <tr>\n",
       "      <th>4</th>\n",
       "      <td>226</td>\n",
       "      <td>2017-04-16</td>\n",
       "      <td>Female</td>\n",
       "      <td>\"TAB.Rantac - 150mg BD\",\"TAB.Megahenz 40mg OD\"</td>\n",
       "      <td>NaN</td>\n",
       "      <td>71 in 2023</td>\n",
       "      <td>160</td>\n",
       "      <td>59.64</td>\n",
       "      <td>130/70</td>\n",
       "      <td>No</td>\n",
       "      <td>...</td>\n",
       "      <td>NaN</td>\n",
       "      <td>Nil</td>\n",
       "      <td>2-3</td>\n",
       "      <td>1-2</td>\n",
       "      <td>Field</td>\n",
       "      <td>Veg</td>\n",
       "      <td>NaN</td>\n",
       "      <td>NaN</td>\n",
       "      <td>Broncyl asthma</td>\n",
       "      <td>bhavadharini@mailinator.com</td>\n",
       "    </tr>\n",
       "  </tbody>\n",
       "</table>\n",
       "<p>5 rows × 49 columns</p>\n",
       "</div>"
      ],
      "text/plain": [
       "  Patient Name Hospital Visited Date  Gender  \\\n",
       "0          224            2022-01-20  Female   \n",
       "1          223            2023-07-28    Male   \n",
       "2          221            2021-10-28    Male   \n",
       "3          225            2023-06-05    Male   \n",
       "4          226            2017-04-16  Female   \n",
       "\n",
       "                                         Medications  \\\n",
       "0  \"TAB.Feburic - 40mg OD\",\"TAB.Ketocheck DS\",\"TA...   \n",
       "1  \"TAB.Glynase - 5 mg BD\",\"TAB.Cardace - 5mg OD\"...   \n",
       "2                                                NaN   \n",
       "3  \"TAB Amtas 5 mg BD\",\"TAB.Met XL - 25mg BD\",\"TA...   \n",
       "4     \"TAB.Rantac - 150mg BD\",\"TAB.Megahenz 40mg OD\"   \n",
       "\n",
       "                      Injections         Age Height  Weight      BP Diabetes  \\\n",
       "0  \"INJ.Vintor 4000 Weekly Once\"  41 in 2023    168   76.40  130/80      Yes   \n",
       "1                            NaN  67 in 2023    170   68.20  120/80      Yes   \n",
       "2                            NaN  70 in 2023    165  58.100  100/60       No   \n",
       "3                            NaN  68 in 2023    170   74.40  140/80      Yes   \n",
       "4                            NaN  71 in 2023    160   59.64  130/70       No   \n",
       "\n",
       "   ... Protein Urine Sugar Pus Cells Epithelial  Worker Diet  \\\n",
       "0  ...     NaN         NaN       NaN        NaN  Manual  Veg   \n",
       "1  ...     NaN         Nil         2          1  Manual  Veg   \n",
       "2  ...     NaN          1+       4-6        2-3  Manual  Veg   \n",
       "3  ...     NaN          3+       2-3        1-2  Manual  Veg   \n",
       "4  ...     NaN         Nil       2-3        1-2   Field  Veg   \n",
       "\n",
       "  Other Medications Other Injections Other Medical Condition  \\\n",
       "0               NaN              NaN                     NaN   \n",
       "1               NaN              NaN                     NaN   \n",
       "2               NaN              NaN                     NaN   \n",
       "3               NaN              NaN                     BPH   \n",
       "4               NaN              NaN          Broncyl asthma   \n",
       "\n",
       "                Person Created  \n",
       "0  bhavadharini@mailinator.com  \n",
       "1  bhavadharini@mailinator.com  \n",
       "2  bhavadharini@mailinator.com  \n",
       "3  bhavadharini@mailinator.com  \n",
       "4  bhavadharini@mailinator.com  \n",
       "\n",
       "[5 rows x 49 columns]"
      ]
     },
     "execution_count": 4,
     "metadata": {},
     "output_type": "execute_result"
    }
   ],
   "source": [
    "df.head(5)"
   ]
  },
  {
   "cell_type": "code",
   "execution_count": 5,
   "metadata": {},
   "outputs": [
    {
     "data": {
      "text/plain": [
       "(3508, 49)"
      ]
     },
     "execution_count": 5,
     "metadata": {},
     "output_type": "execute_result"
    }
   ],
   "source": [
    "df.shape"
   ]
  },
  {
   "cell_type": "code",
   "execution_count": 6,
   "metadata": {},
   "outputs": [],
   "source": [
    "df.drop(['Gender','Age','Height',\n",
    " 'Weight',\n",
    " 'BP',\n",
    " 'Diabetes',\n",
    " 'Hypertension',\n",
    " 'Smoking History',\n",
    " 'Family History',\n",
    " 'Previous Kidney Disease','Cardiovascular Disease','Urinary Tract Infection',\n",
    " 'Kidney Stone',\n",
    " 'Kidney Injury History',\n",
    " 'Urine Output Per Day',\n",
    " 'Total Water Intake',\n",
    " 'Sun Exposure',\n",
    " 'Living Area','Worker','Diet','Person Created','Other Medications',\n",
    " 'Other Injections','Other Medical Condition','Patient Name',\n",
    " 'Hospital Visited Date'],axis=1,inplace=True)"
   ]
  },
  {
   "cell_type": "code",
   "execution_count": 7,
   "metadata": {},
   "outputs": [
    {
     "data": {
      "text/plain": [
       "(3508, 23)"
      ]
     },
     "execution_count": 7,
     "metadata": {},
     "output_type": "execute_result"
    }
   ],
   "source": [
    "df.shape"
   ]
  },
  {
   "cell_type": "code",
   "execution_count": 8,
   "metadata": {},
   "outputs": [],
   "source": [
    "missing=list(df.isna().sum())"
   ]
  },
  {
   "cell_type": "code",
   "execution_count": null,
   "metadata": {},
   "outputs": [],
   "source": []
  },
  {
   "cell_type": "code",
   "execution_count": 9,
   "metadata": {},
   "outputs": [
    {
     "data": {
      "text/plain": [
       "3508"
      ]
     },
     "execution_count": 9,
     "metadata": {},
     "output_type": "execute_result"
    }
   ],
   "source": [
    "df.shape[0]"
   ]
  },
  {
   "cell_type": "code",
   "execution_count": 10,
   "metadata": {},
   "outputs": [],
   "source": [
    "percentage=[round((i/df.shape[0])*100,2) for i in missing]"
   ]
  },
  {
   "cell_type": "code",
   "execution_count": 11,
   "metadata": {},
   "outputs": [
    {
     "data": {
      "text/plain": [
       "['Medications',\n",
       " 'Injections',\n",
       " 'Urine Albumin',\n",
       " 'Glomerular Filration',\n",
       " 'Serum Creatinine Level',\n",
       " 'Haemoglobin Level',\n",
       " 'Serum Calcium Level',\n",
       " 'Serum Phosphorous Level',\n",
       " 'Serum Potassium Level',\n",
       " 'Serum Sodium Level',\n",
       " 'Serum Albumin Level',\n",
       " 'Serum Bicarbonate',\n",
       " 'Total Count',\n",
       " 'Random Blood Sugar',\n",
       " 'Urea',\n",
       " 'Cholestrol',\n",
       " 'Magnesium',\n",
       " 'Uric Acid',\n",
       " 'Chloride',\n",
       " 'Protein',\n",
       " 'Urine Sugar',\n",
       " 'Pus Cells',\n",
       " 'Epithelial']"
      ]
     },
     "execution_count": 11,
     "metadata": {},
     "output_type": "execute_result"
    }
   ],
   "source": [
    "attr=list(df.columns)\n",
    "\n",
    "attr"
   ]
  },
  {
   "cell_type": "code",
   "execution_count": 12,
   "metadata": {},
   "outputs": [],
   "source": [
    "data = {'Attributes':attr,'Percentage':percentage}"
   ]
  },
  {
   "cell_type": "code",
   "execution_count": 13,
   "metadata": {},
   "outputs": [],
   "source": [
    "df2=pd.DataFrame(data=data)"
   ]
  },
  {
   "cell_type": "code",
   "execution_count": 14,
   "metadata": {},
   "outputs": [
    {
     "data": {
      "text/html": [
       "<div>\n",
       "<style scoped>\n",
       "    .dataframe tbody tr th:only-of-type {\n",
       "        vertical-align: middle;\n",
       "    }\n",
       "\n",
       "    .dataframe tbody tr th {\n",
       "        vertical-align: top;\n",
       "    }\n",
       "\n",
       "    .dataframe thead th {\n",
       "        text-align: right;\n",
       "    }\n",
       "</style>\n",
       "<table border=\"1\" class=\"dataframe\">\n",
       "  <thead>\n",
       "    <tr style=\"text-align: right;\">\n",
       "      <th></th>\n",
       "      <th>Attributes</th>\n",
       "      <th>Percentage</th>\n",
       "    </tr>\n",
       "  </thead>\n",
       "  <tbody>\n",
       "    <tr>\n",
       "      <th>0</th>\n",
       "      <td>Medications</td>\n",
       "      <td>1.23</td>\n",
       "    </tr>\n",
       "    <tr>\n",
       "      <th>1</th>\n",
       "      <td>Injections</td>\n",
       "      <td>86.43</td>\n",
       "    </tr>\n",
       "    <tr>\n",
       "      <th>2</th>\n",
       "      <td>Urine Albumin</td>\n",
       "      <td>8.30</td>\n",
       "    </tr>\n",
       "    <tr>\n",
       "      <th>3</th>\n",
       "      <td>Glomerular Filration</td>\n",
       "      <td>10.43</td>\n",
       "    </tr>\n",
       "    <tr>\n",
       "      <th>4</th>\n",
       "      <td>Serum Creatinine Level</td>\n",
       "      <td>1.05</td>\n",
       "    </tr>\n",
       "    <tr>\n",
       "      <th>5</th>\n",
       "      <td>Haemoglobin Level</td>\n",
       "      <td>3.79</td>\n",
       "    </tr>\n",
       "    <tr>\n",
       "      <th>6</th>\n",
       "      <td>Serum Calcium Level</td>\n",
       "      <td>92.84</td>\n",
       "    </tr>\n",
       "    <tr>\n",
       "      <th>7</th>\n",
       "      <td>Serum Phosphorous Level</td>\n",
       "      <td>93.24</td>\n",
       "    </tr>\n",
       "    <tr>\n",
       "      <th>8</th>\n",
       "      <td>Serum Potassium Level</td>\n",
       "      <td>60.43</td>\n",
       "    </tr>\n",
       "    <tr>\n",
       "      <th>9</th>\n",
       "      <td>Serum Sodium Level</td>\n",
       "      <td>83.95</td>\n",
       "    </tr>\n",
       "    <tr>\n",
       "      <th>10</th>\n",
       "      <td>Serum Albumin Level</td>\n",
       "      <td>95.61</td>\n",
       "    </tr>\n",
       "    <tr>\n",
       "      <th>11</th>\n",
       "      <td>Serum Bicarbonate</td>\n",
       "      <td>84.98</td>\n",
       "    </tr>\n",
       "    <tr>\n",
       "      <th>12</th>\n",
       "      <td>Total Count</td>\n",
       "      <td>6.33</td>\n",
       "    </tr>\n",
       "    <tr>\n",
       "      <th>13</th>\n",
       "      <td>Random Blood Sugar</td>\n",
       "      <td>4.48</td>\n",
       "    </tr>\n",
       "    <tr>\n",
       "      <th>14</th>\n",
       "      <td>Urea</td>\n",
       "      <td>4.76</td>\n",
       "    </tr>\n",
       "    <tr>\n",
       "      <th>15</th>\n",
       "      <td>Cholestrol</td>\n",
       "      <td>94.56</td>\n",
       "    </tr>\n",
       "    <tr>\n",
       "      <th>16</th>\n",
       "      <td>Magnesium</td>\n",
       "      <td>96.47</td>\n",
       "    </tr>\n",
       "    <tr>\n",
       "      <th>17</th>\n",
       "      <td>Uric Acid</td>\n",
       "      <td>61.92</td>\n",
       "    </tr>\n",
       "    <tr>\n",
       "      <th>18</th>\n",
       "      <td>Chloride</td>\n",
       "      <td>86.74</td>\n",
       "    </tr>\n",
       "    <tr>\n",
       "      <th>19</th>\n",
       "      <td>Protein</td>\n",
       "      <td>95.84</td>\n",
       "    </tr>\n",
       "    <tr>\n",
       "      <th>20</th>\n",
       "      <td>Urine Sugar</td>\n",
       "      <td>9.64</td>\n",
       "    </tr>\n",
       "    <tr>\n",
       "      <th>21</th>\n",
       "      <td>Pus Cells</td>\n",
       "      <td>9.21</td>\n",
       "    </tr>\n",
       "    <tr>\n",
       "      <th>22</th>\n",
       "      <td>Epithelial</td>\n",
       "      <td>9.06</td>\n",
       "    </tr>\n",
       "  </tbody>\n",
       "</table>\n",
       "</div>"
      ],
      "text/plain": [
       "                 Attributes  Percentage\n",
       "0               Medications        1.23\n",
       "1                Injections       86.43\n",
       "2             Urine Albumin        8.30\n",
       "3      Glomerular Filration       10.43\n",
       "4    Serum Creatinine Level        1.05\n",
       "5         Haemoglobin Level        3.79\n",
       "6       Serum Calcium Level       92.84\n",
       "7   Serum Phosphorous Level       93.24\n",
       "8     Serum Potassium Level       60.43\n",
       "9        Serum Sodium Level       83.95\n",
       "10      Serum Albumin Level       95.61\n",
       "11        Serum Bicarbonate       84.98\n",
       "12              Total Count        6.33\n",
       "13       Random Blood Sugar        4.48\n",
       "14                     Urea        4.76\n",
       "15               Cholestrol       94.56\n",
       "16                Magnesium       96.47\n",
       "17                Uric Acid       61.92\n",
       "18                 Chloride       86.74\n",
       "19                  Protein       95.84\n",
       "20              Urine Sugar        9.64\n",
       "21                Pus Cells        9.21\n",
       "22               Epithelial        9.06"
      ]
     },
     "execution_count": 14,
     "metadata": {},
     "output_type": "execute_result"
    }
   ],
   "source": [
    "df2"
   ]
  },
  {
   "cell_type": "code",
   "execution_count": 15,
   "metadata": {},
   "outputs": [],
   "source": [
    "df2.to_csv(\"Missing_values.csv\")"
   ]
  },
  {
   "cell_type": "code",
   "execution_count": 16,
   "metadata": {},
   "outputs": [],
   "source": [
    "total = [df.shape[0] for i in range(len(attr))]"
   ]
  },
  {
   "cell_type": "code",
   "execution_count": 17,
   "metadata": {},
   "outputs": [],
   "source": [
    "data1 = {'Attributes':attr,'Missing_count':missing,'Total':total,'Percentage':percentage}"
   ]
  },
  {
   "cell_type": "code",
   "execution_count": 18,
   "metadata": {},
   "outputs": [],
   "source": [
    "df3 = pd.DataFrame(data1)"
   ]
  },
  {
   "cell_type": "code",
   "execution_count": 19,
   "metadata": {},
   "outputs": [],
   "source": [
    "df3.to_csv(\"Missing_values.csv\")"
   ]
  },
  {
   "cell_type": "markdown",
   "metadata": {},
   "source": [
    "data2 = {'Total Patients' : [152],'Records':[2480]}"
   ]
  },
  {
   "cell_type": "markdown",
   "metadata": {},
   "source": [
    "df4 = pd.DataFrame(data2)"
   ]
  },
  {
   "cell_type": "markdown",
   "metadata": {},
   "source": [
    "df4.to_csv(\"total.csv\")"
   ]
  },
  {
   "cell_type": "code",
   "execution_count": null,
   "metadata": {},
   "outputs": [],
   "source": []
  }
 ],
 "metadata": {
  "kernelspec": {
   "display_name": "Python 3 (ipykernel)",
   "language": "python",
   "name": "python3"
  },
  "language_info": {
   "codemirror_mode": {
    "name": "ipython",
    "version": 3
   },
   "file_extension": ".py",
   "mimetype": "text/x-python",
   "name": "python",
   "nbconvert_exporter": "python",
   "pygments_lexer": "ipython3",
   "version": "3.9.13"
  },
  "orig_nbformat": 4
 },
 "nbformat": 4,
 "nbformat_minor": 2
}
